{
 "cells": [
  {
   "cell_type": "code",
   "execution_count": 5,
   "id": "23c71b36-6930-4aee-972b-ca54f098b810",
   "metadata": {},
   "outputs": [
    {
     "name": "stdout",
     "output_type": "stream",
     "text": [
      "[0, 0, 1, 1, 2, 2]\n",
      "[0, 1, 2]\n"
     ]
    }
   ],
   "source": [
    "class Solution:\n",
    "    # Function to sort an array of 0s, 1s, and 2s\n",
    "    def sort012(arr):\n",
    "\n",
    "        #count the number of 0's, 1's, and 2's in the array\n",
    "        count0 = arr.count(0)\n",
    "        count1 = arr.count(1)\n",
    "        count2 = arr.count(2)\n",
    "        \n",
    "        index = 0\n",
    "        #create a new array with by first adding the 0's then the 1's then the 2's\n",
    "        for _ in range(count0):\n",
    "            arr[index] = 0\n",
    "            index += 1\n",
    "        for _ in range(count1):\n",
    "            arr[index] = 1\n",
    "            index += 1\n",
    "        for _ in range(count2):\n",
    "            arr[index] = 2\n",
    "            index += 1\n",
    "        \n",
    "        return arr\n",
    "\n",
    "arr1 = [0, 2, 2, 0, 1, 1]\n",
    "arr2 = [2, 1, 0]\n",
    "\n",
    "print(Solution.sort012(arr1))\n",
    "print(Solution.sort012(arr2))"
   ]
  },
  {
   "cell_type": "code",
   "execution_count": 6,
   "id": "78ec2bd5-bc44-4a36-b428-ee8bf088055e",
   "metadata": {},
   "outputs": [
    {
     "name": "stdout",
     "output_type": "stream",
     "text": [
      "3\n",
      "-1\n"
     ]
    }
   ],
   "source": [
    "class Solution:\n",
    "    def binarysearch(self, arr, k):\n",
    "        #define low to be 0 and high to be the highest index of the array\n",
    "        low = 0\n",
    "        high = len(arr) -1\n",
    "        #while loop to start checking the array from the middle\n",
    "        while (low <= high):\n",
    "            #mid is the middle index of the array\n",
    "            mid = (low + high) // 2\n",
    "            #if mid holds the targeted integer return the index mid\n",
    "            if arr[mid] == k:\n",
    "                return mid\n",
    "\n",
    "            #if the value of the array at mid is greater than the target, then ignore the right (greater) half of the array\n",
    "            elif arr[mid] > k:\n",
    "                high = mid - 1\n",
    "            #if the value of the array at mid is less than the target, then ignore the left (smaller) half of the array\n",
    "            else:\n",
    "                low = mid + 1\n",
    "        #if the number is not found return -1 (default return)\n",
    "        return -1\n",
    "\n",
    "sol = Solution()\n",
    "arr1 = [1, 2, 3, 4, 5]\n",
    "arr2 = [11, 22, 33, 44, 55]\n",
    "\n",
    "print(sol.binarysearch(arr1, 4))\n",
    "print(sol.binarysearch(arr2, 445))"
   ]
  },
  {
   "cell_type": "code",
   "execution_count": null,
   "id": "de6a26a0-b366-4045-b066-0cc162b7a0b6",
   "metadata": {},
   "outputs": [],
   "source": [
    "#GitHub Link: https://github.com/BenjNall/SDEV-220/blob/main/M03%20Tutorial.ipynb"
   ]
  }
 ],
 "metadata": {
  "kernelspec": {
   "display_name": "Python 3 (ipykernel)",
   "language": "python",
   "name": "python3"
  },
  "language_info": {
   "codemirror_mode": {
    "name": "ipython",
    "version": 3
   },
   "file_extension": ".py",
   "mimetype": "text/x-python",
   "name": "python",
   "nbconvert_exporter": "python",
   "pygments_lexer": "ipython3",
   "version": "3.12.4"
  }
 },
 "nbformat": 4,
 "nbformat_minor": 5
}
