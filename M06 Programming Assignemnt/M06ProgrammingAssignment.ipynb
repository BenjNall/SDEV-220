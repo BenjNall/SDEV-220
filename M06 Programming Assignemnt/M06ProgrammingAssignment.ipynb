{
 "cells": [
  {
   "cell_type": "code",
   "execution_count": 6,
   "id": "7f01115a-8e97-442b-960d-701e3ae795e9",
   "metadata": {},
   "outputs": [],
   "source": [
    "from datetime import date\n",
    "\n",
    "today = date.today()\n",
    "\n",
    "todayString = today.isoformat()\n",
    "\n",
    "with open('today.txt', 'w') as file:\n",
    "    file.write(today_string)\n",
    "    "
   ]
  },
  {
   "cell_type": "code",
   "execution_count": 7,
   "id": "0ed8c464-b70f-49af-8598-3823d0738613",
   "metadata": {},
   "outputs": [
    {
     "name": "stdout",
     "output_type": "stream",
     "text": [
      "2024-09-23\n"
     ]
    }
   ],
   "source": [
    "with open('today.txt', 'r') as file:\n",
    "    todayString = file.read()\n",
    "\n",
    "print(todayString)"
   ]
  },
  {
   "cell_type": "code",
   "execution_count": 8,
   "id": "5efe73b1-f2d8-45ad-a484-4de8292c105a",
   "metadata": {},
   "outputs": [
    {
     "name": "stdout",
     "output_type": "stream",
     "text": [
      "2024-09-23\n"
     ]
    }
   ],
   "source": [
    "from datetime import datetime\n",
    "\n",
    "parsedDate = datetime.strptime(today_string, '%Y-%m-%d').date()\n",
    "\n",
    "print(parsedDate)"
   ]
  },
  {
   "cell_type": "code",
   "execution_count": 14,
   "id": "9ba66579-2971-4185-bc3a-6066eb72088a",
   "metadata": {},
   "outputs": [],
   "source": [
    "#note this does not function in a jupyter notebook. I have included this code as a .py file that runs correctly.\n",
    "\n",
    "import multiprocessing\n",
    "import time\n",
    "import random\n",
    "from datetime import datetime\n",
    "\n",
    "# Function to be executed by each process - prints the time delayed by a random amount of seconds between 0 and 1\n",
    "def print_time():\n",
    "    # Generate a random number between 0 and 1\n",
    "    sleep_time = random.uniform(0, 1)\n",
    "    \n",
    "    # Make the process sleep for the random amount of time\n",
    "    time.sleep(sleep_time)\n",
    "    \n",
    "    # Print the current time after the sleep - using the fancy print notation\n",
    "    print(f\"Process {multiprocessing.current_process().name} - Time: {datetime.now()}\")\n",
    "\n",
    "if __name__ == '__main__':\n",
    "\n",
    "    processes = []\n",
    "    \n",
    "    # Create 3 separate processes have each process call print_time()\n",
    "    for i in range(3):\n",
    "        process = multiprocessing.Process(target=print_time, name=f\"Process-{i+1}\")\n",
    "        processes.append(process)\n",
    "    \n",
    "    # Start all the processes\n",
    "    for process in processes:\n",
    "        process.start()\n",
    "    \n",
    "    # Wait for all processes to complete\n",
    "    for process in processes:\n",
    "        process.join()"
   ]
  }
 ],
 "metadata": {
  "kernelspec": {
   "display_name": "Python 3 (ipykernel)",
   "language": "python",
   "name": "python3"
  },
  "language_info": {
   "codemirror_mode": {
    "name": "ipython",
    "version": 3
   },
   "file_extension": ".py",
   "mimetype": "text/x-python",
   "name": "python",
   "nbconvert_exporter": "python",
   "pygments_lexer": "ipython3",
   "version": "3.12.4"
  }
 },
 "nbformat": 4,
 "nbformat_minor": 5
}
